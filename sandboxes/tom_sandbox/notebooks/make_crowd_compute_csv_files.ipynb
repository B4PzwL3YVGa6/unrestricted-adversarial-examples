{
 "cells": [
  {
   "cell_type": "code",
   "execution_count": 4,
   "metadata": {},
   "outputs": [
    {
     "name": "stdout",
     "output_type": "stream",
     "text": [
      "crowd_compute_requests/cropped_boat_vs_bicycle_10k_gs.txt\r\n"
     ]
    }
   ],
   "source": [
    "!cat image_ids/boat_vs_bicycle_10k/boat.txt > crowd_compute_requests/cropped_boat_vs_bicycle_10k_gs.txt\n",
    "!cat image_ids/boat_vs_bicycle_10k/bicycle.txt >> crowd_compute_requests/cropped_boat_vs_bicycle_10k_gs.txt\n",
    "!ls crowd_compute_requests/cropped_boat_vs_bicycle_10k_gs.txt"
   ]
  },
  {
   "cell_type": "code",
   "execution_count": 10,
   "metadata": {
    "collapsed": true
   },
   "outputs": [],
   "source": [
    "import csv\n",
    "\n",
    "with open('image_ids/boat_vs_bicycle_10k/boat.txt', 'r') as f:\n",
    "    boat_lines = f.read().strip().split('\\n')\n",
    "with open('image_ids/boat_vs_bicycle_10k/bicycle.txt', 'r') as f:\n",
    "    bicycle_lines = f.read().strip().split('\\n')"
   ]
  },
  {
   "cell_type": "code",
   "execution_count": 13,
   "metadata": {},
   "outputs": [
    {
     "name": "stdout",
     "output_type": "stream",
     "text": [
      "20000\n"
     ]
    }
   ],
   "source": [
    "gs_locs = []\n",
    "\n",
    "gs_locs += [f\"boat/{line}.jpg\" for line in boat_lines]\n",
    "gs_locs += [f\"bicycle/{line}.jpg\" for line in bicycle_lines]\n",
    "print(len(gs_locs))"
   ]
  },
  {
   "cell_type": "code",
   "execution_count": 14,
   "metadata": {
    "collapsed": true
   },
   "outputs": [],
   "source": [
    "from random import shuffle\n",
    "shuffle(gs_locs)"
   ]
  },
  {
   "cell_type": "code",
   "execution_count": 17,
   "metadata": {},
   "outputs": [
    {
     "name": "stdout",
     "output_type": "stream",
     "text": [
      "https://storage.cloud.google.com/tomfeelslucky-experiments/datasets/unambiguous-open-images/cropped_boat_vs_bicycle_10k/bicycle/0a24981a69fe4c7e.jpg\n"
     ]
    },
    {
     "data": {
      "text/html": [
       "<img src='https://storage.cloud.google.com/tomfeelslucky-experiments/datasets/unambiguous-open-images/cropped_boat_vs_bicycle_10k/bicycle/0a24981a69fe4c7e.jpg'></img>"
      ],
      "text/plain": [
       "<IPython.core.display.HTML object>"
      ]
     },
     "metadata": {},
     "output_type": "execute_result"
    }
   ],
   "source": [
    "from IPython.core.display import display, HTML\n",
    "html = lambda s: display(HTML(s))\n",
    "def gs_loc_to_url(gs_loc):\n",
    "    dirname, filename = gs_loc.split('/')[-2], gs_loc.split('/')[-1]\n",
    "    return f\"https://storage.cloud.google.com/tomfeelslucky-experiments/datasets/unambiguous-open-images/cropped_boat_vs_bicycle_10k/{dirname}/{filename}\"\n",
    "    \n",
    "def show_by_url(url):\n",
    "    html(f\"<img src='{url}'></img>\")\n",
    "    \n",
    "print(gs_loc_to_url(gs_loc))\n",
    "show_by_url(gs_loc_to_url(gs_loc))"
   ]
  },
  {
   "cell_type": "code",
   "execution_count": 18,
   "metadata": {
    "collapsed": true
   },
   "outputs": [],
   "source": [
    "with open('crowd_compute_requests/cropped_boat_vs_bicycle_10k_urls.csv', 'w') as csvfile:\n",
    "    spamwriter = csv.writer(csvfile)\n",
    "    for gs_loc in gs_locs:\n",
    "        spamwriter.writerow([gs_loc_to_url(gs_loc)])"
   ]
  },
  {
   "cell_type": "code",
   "execution_count": 20,
   "metadata": {},
   "outputs": [
    {
     "name": "stdout",
     "output_type": "stream",
     "text": [
      "https://storage.cloud.google.com/tomfeelslucky-experiments/datasets/unambiguous-open-images/cropped_boat_vs_bicycle_10k/bicycle/246be72b4469392d.jpg\r",
      "\r\n",
      "https://storage.cloud.google.com/tomfeelslucky-experiments/datasets/unambiguous-open-images/cropped_boat_vs_bicycle_10k/bicycle/2ee23af6eb048f0b.jpg\r",
      "\r\n",
      "https://storage.cloud.google.com/tomfeelslucky-experiments/datasets/unambiguous-open-images/cropped_boat_vs_bicycle_10k/bicycle/32c7f26d63001316.jpg\r",
      "\r\n",
      "https://storage.cloud.google.com/tomfeelslucky-experiments/datasets/unambiguous-open-images/cropped_boat_vs_bicycle_10k/boat/01c2cf0f69ed3b75.jpg\r",
      "\r\n",
      "https://storage.cloud.google.com/tomfeelslucky-experiments/datasets/unambiguous-open-images/cropped_boat_vs_bicycle_10k/bicycle/17a96424689861ba.jpg\r",
      "\r\n",
      "https://storage.cloud.google.com/tomfeelslucky-experiments/datasets/unambiguous-open-images/cropped_boat_vs_bicycle_10k/boat/37b7d9284a4ca0f3.jpg\r",
      "\r\n",
      "https://storage.cloud.google.com/tomfeelslucky-experiments/datasets/unambiguous-open-images/cropped_boat_vs_bicycle_10k/boat/2a7d93befe1a2987.jpg\r",
      "\r\n",
      "https://storage.cloud.google.com/tomfeelslucky-experiments/datasets/unambiguous-open-images/cropped_boat_vs_bicycle_10k/boat/07683f1a9720d2c2.jpg\r",
      "\r\n",
      "https://storage.cloud.google.com/tomfeelslucky-experiments/datasets/unambiguous-open-images/cropped_boat_vs_bicycle_10k/boat/14eabd837e80e994.jpg\r",
      "\r\n",
      "https://storage.cloud.google.com/tomfeelslucky-experiments/datasets/unambiguous-open-images/cropped_boat_vs_bicycle_10k/bicycle/0a24981a69fe4c7e.jpg\r",
      "\r\n"
     ]
    }
   ],
   "source": [
    "! tail crowd_compute_requests/cropped_boat_vs_bicycle_10k_urls.csv"
   ]
  },
  {
   "cell_type": "code",
   "execution_count": null,
   "metadata": {
    "collapsed": true
   },
   "outputs": [],
   "source": []
  }
 ],
 "metadata": {
  "kernelspec": {
   "display_name": "Python 3",
   "language": "python",
   "name": "python3"
  },
  "language_info": {
   "codemirror_mode": {
    "name": "ipython",
    "version": 3
   },
   "file_extension": ".py",
   "mimetype": "text/x-python",
   "name": "python",
   "nbconvert_exporter": "python",
   "pygments_lexer": "ipython3",
   "version": "3.6.1"
  }
 },
 "nbformat": 4,
 "nbformat_minor": 2
}
